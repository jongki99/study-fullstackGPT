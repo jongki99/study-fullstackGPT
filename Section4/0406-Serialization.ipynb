{
 "cells": [
  {
   "cell_type": "code",
   "execution_count": null,
   "metadata": {},
   "outputs": [],
   "source": [
    "from langchain.chat_models import ChatOpenAI\n",
    "from langchain.callbacks import get_openai_callback\n",
    "\n",
    "chat = ChatOpenAI(\n",
    "    temperature=0.1,\n",
    ")\n",
    "\n",
    "with get_openai_callback() as usage:\n",
    "    a = chat.predict(\"What is the recipe for suju?\")\n",
    "    b = chat.predict(\"What is the recipe for bread?\")\n",
    "    print(a, b, \"\\n\")\n",
    "    print(usage)\n",
    "    print(usage.total_tokens)\n",
    "    print(usage.total_cost)\n"
   ]
  },
  {
   "cell_type": "code",
   "execution_count": null,
   "metadata": {},
   "outputs": [],
   "source": [
    "from langchain.llms.openai import OpenAI\n",
    "chat2 = OpenAI(\n",
    "    temperature=0.1,\n",
    "    max_tokens=450,\n",
    "    model=\"gpt-3.5-turbo-16k\",\n",
    ")\n",
    "\n",
    "chat2.save(\"0406-model.json\")\n"
   ]
  },
  {
   "cell_type": "code",
   "execution_count": null,
   "metadata": {},
   "outputs": [],
   "source": [
    "from langchain.chat_models import ChatOpenAI\n",
    "from langchain.llms.openai import OpenAI\n",
    "from langchain.callbacks import get_openai_callback\n",
    "from langchain.llms.loading import load_llm\n",
    "\n",
    "\n",
    "with get_openai_callback() as usage:\n",
    "    chat = ChatOpenAI(\n",
    "        temperature=0.1,\n",
    "    )\n",
    "    a = chat.predict(\"What is the Tokens?\")\n",
    "    print(a, \"\\n\")\n",
    "    print(usage)\n",
    "    print(usage.total_tokens)\n",
    "    print(usage.total_cost)\n",
    "\n",
    "with get_openai_callback() as usage:\n",
    "    chat = load_llm(\"0406-model.json\")\n",
    "    a = chat.predict(\"What is the Tokens?\")\n",
    "    print(a, \"\\n\")\n",
    "    print(usage)\n",
    "    print(usage.total_tokens)\n",
    "    print(usage.total_cost)"
   ]
  }
 ],
 "metadata": {
  "kernelspec": {
   "display_name": "env",
   "language": "python",
   "name": "python3"
  },
  "language_info": {
   "codemirror_mode": {
    "name": "ipython",
    "version": 3
   },
   "file_extension": ".py",
   "mimetype": "text/x-python",
   "name": "python",
   "nbconvert_exporter": "python",
   "pygments_lexer": "ipython3",
   "version": "3.10.12"
  }
 },
 "nbformat": 4,
 "nbformat_minor": 2
}
