{
 "cells": [
  {
   "cell_type": "code",
   "execution_count": null,
   "metadata": {},
   "outputs": [],
   "source": [
    "from langchain.chat_models import ChatOpenAI\n",
    "from langchain.callbacks import get_openai_callback\n",
    "\n",
    "chat = ChatOpenAI(\n",
    "    temperature=0.1,\n",
    ")\n",
    "\n",
    "with get_openai_callback() as usage:\n",
    "    a = chat.predict(\"What is the recipe for suju?\")\n",
    "    b = chat.predict(\"What is the recipe for bread?\")\n",
    "    print(a, b, \"\\n\")\n",
    "    print(usage)\n",
    "    print(usage.total_tokens)\n",
    "    print(usage.total_cost)\n"
   ]
  },
  {
   "cell_type": "code",
   "execution_count": null,
   "metadata": {},
   "outputs": [],
   "source": [
    "from langchain.llms.openai import OpenAI\n",
    "chat2 = OpenAI(\n",
    "    temperature=0.1,\n",
    "    max_tokens=450,\n",
    "    model=\"gpt-3.5-turbo-16k\",\n",
    ")\n",
    "\n",
    "chat2.save(\"0406-model.json\")\n"
   ]
  },
  {
   "cell_type": "code",
   "execution_count": 5,
   "metadata": {},
   "outputs": [
    {
     "name": "stderr",
     "output_type": "stream",
     "text": [
      "/Users/P170355/Downloads/study/fullstackGPT/env/lib/python3.10/site-packages/langchain/llms/openai.py:216: UserWarning: You are trying to use a chat model. This way of initializing it is no longer supported. Instead, please use: `from langchain.chat_models import ChatOpenAI`\n",
      "  warnings.warn(\n",
      "/Users/P170355/Downloads/study/fullstackGPT/env/lib/python3.10/site-packages/langchain/llms/openai.py:811: UserWarning: You are trying to use a chat model. This way of initializing it is no longer supported. Instead, please use: `from langchain.chat_models import ChatOpenAI`\n",
      "  warnings.warn(\n"
     ]
    },
    {
     "name": "stdout",
     "output_type": "stream",
     "text": [
      "Tokens are digital assets that represent a certain value or utility within a specific blockchain network. They can be used for various purposes, such as accessing and using decentralized applications (DApps), participating in token sales or initial coin offerings (ICOs), voting on governance decisions, and transferring value between users within the network. Tokens can be fungible, meaning they are interchangeable with other tokens of the same type, or non-fungible, where each token has a unique value or characteristic. Examples of popular tokens include Bitcoin (BTC) and Ethereum (ETH). \n",
      "\n",
      "Tokens Used: 122\n",
      "\tPrompt Tokens: 12\n",
      "\tCompletion Tokens: 110\n",
      "Successful Requests: 1\n",
      "Total Cost (USD): $0.000476\n",
      "122\n",
      "0.000476\n"
     ]
    }
   ],
   "source": [
    "from langchain.chat_models import ChatOpenAI\n",
    "from langchain.llms.openai import OpenAI\n",
    "from langchain.callbacks import get_openai_callback\n",
    "from langchain.llms.loading import load_llm\n",
    "\n",
    "\n",
    "with get_openai_callback() as usage:\n",
    "    chat = ChatOpenAI(\n",
    "        temperature=0.1,\n",
    "    )\n",
    "    a = chat.predict(\"What is the Tokens?\")\n",
    "    print(a, \"\\n\")\n",
    "    print(usage)\n",
    "    print(usage.total_tokens)\n",
    "    print(usage.total_cost)\n",
    "\n",
    "with get_openai_callback() as usage:\n",
    "    chat = load_llm(\"0406-model.json\")\n",
    "    a = chat.predict(\"What is the Tokens?\")\n",
    "    print(a, \"\\n\")\n",
    "    print(usage)\n",
    "    print(usage.total_tokens)\n",
    "    print(usage.total_cost)"
   ]
  }
 ],
 "metadata": {
  "kernelspec": {
   "display_name": "env",
   "language": "python",
   "name": "python3"
  },
  "language_info": {
   "codemirror_mode": {
    "name": "ipython",
    "version": 3
   },
   "file_extension": ".py",
   "mimetype": "text/x-python",
   "name": "python",
   "nbconvert_exporter": "python",
   "pygments_lexer": "ipython3",
   "version": "3.10.12"
  }
 },
 "nbformat": 4,
 "nbformat_minor": 2
}
