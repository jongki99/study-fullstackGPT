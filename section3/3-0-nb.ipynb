{
 "cells": [
  {
   "cell_type": "code",
   "execution_count": 23,
   "metadata": {},
   "outputs": [
    {
     "name": "stdout",
     "output_type": "stream",
     "text": [
      "gpt-3.5-turbo\n",
      "There are 8 planets in our solar system: Mercury, Venus, Earth, Mars, Jupiter, Saturn, Uranus, and Neptune.\n",
      "gpt-3.5-turbo\n",
      "There are 8 planets in our solar system.\n"
     ]
    }
   ],
   "source": [
    "from langchain.llms.openai import OpenAI # text-davinci-003 -> gpt-3.5-turbo-1106 으로 교체.\n",
    "from langchain.chat_models import ChatOpenAI, ChatAnthropic # gpt-3.5-turbo-0613-> gpt-3.5-turbo-1106 으로 교체. gpt-3.5-turbo 로 하면 어케되지??\n",
    "\n",
    "# chat2 = ChatAnthropic()\n",
    "chat = ChatOpenAI(\n",
    "    model_name=\"gpt-3.5-turbo\", # 8 planets name list\n",
    "    temperature=0.1, # 0.1 사실에 가까운 얘기, 0.9 창의적인.??\n",
    "#    model_name=\"gpt-4\", # only number 8.\n",
    ")\n",
    "def test(ChatOpenAI):\n",
    "    msg = \"How manyplanets are there?\"\n",
    "    b = chat.predict(msg)\n",
    "    print(chat.model_name)\n",
    "    print(b)\n",
    "\n",
    "#b = chat.predict(msg)\n",
    "#b = chat.predict(\"How many planets are there? name?\")\n",
    "#b = chat.predict(\"How many planets are there? and their are name?\")\n",
    "#b = chat.predict(\"How many planets are there?\")\n",
    "#b = chat.predict(\"행성이 얼마나 있지?\")\n",
    "#print(chat.model_name)\n",
    "#print(b)\n",
    "\n",
    "chat2 = ChatOpenAI(\n",
    "#    model_name=\"gpt-3.5-turbo\", # 8 planets name list\n",
    "    temperature=0.1, # 0.1 사실에 가까운 얘기, 0.9 창의적인.??\n",
    "    model_name=\"gpt-4\", # only number 8.\n",
    ")\n",
    "\n",
    "#c = chat2.predict(msg);\n",
    "#print(chat2.model_name)\n",
    "#print(c)"
   ]
  },
  {
   "cell_type": "code",
   "execution_count": null,
   "metadata": {},
   "outputs": [],
   "source": [
    "llm = OpenAI()\n",
    "llm.predict(\"How many planets are there?\")"
   ]
  }
 ],
 "metadata": {
  "kernelspec": {
   "display_name": "env",
   "language": "python",
   "name": "python3"
  },
  "language_info": {
   "codemirror_mode": {
    "name": "ipython",
    "version": 3
   },
   "file_extension": ".py",
   "mimetype": "text/x-python",
   "name": "python",
   "nbconvert_exporter": "python",
   "pygments_lexer": "ipython3",
   "version": "3.10.12"
  }
 },
 "nbformat": 4,
 "nbformat_minor": 2
}
