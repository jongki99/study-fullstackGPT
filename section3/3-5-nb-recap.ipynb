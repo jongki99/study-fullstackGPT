{
 "cells": [
  {
   "cell_type": "code",
   "execution_count": 1,
   "metadata": {},
   "outputs": [],
   "source": [
    "from langchain.chat_models import ChatOpenAI\n",
    "from langchain.prompts import ChatPromptTemplate\n",
    "from langchain.callbacks import StreamingStdOutCallbackHandler\n",
    "\n",
    "chat = ChatOpenAI()\n"
   ]
  },
  {
   "cell_type": "code",
   "execution_count": 2,
   "metadata": {},
   "outputs": [],
   "source": [
    "from langchain.schema import BaseOutputParser\n",
    "chat = ChatOpenAI(\n",
    "    temperature=0.1\n",
    "    , streaming=True\n",
    "    , callbacks=[StreamingStdOutCallbackHandler()],\n",
    ")\n",
    "\n",
    "class CommaOutputParser(BaseOutputParser):\n",
    "    def parse(self, text):\n",
    "        items = text.strip().split(\",\")\n",
    "        return list(map(str.strip, items))"
   ]
  },
  {
   "cell_type": "code",
   "execution_count": 3,
   "metadata": {},
   "outputs": [],
   "source": [
    "# template = ChatPromptTemplate.from_messages(\n",
    "#     chef_prompt = ChatPromptTemplate.from_messages(\n",
    "#         [\n",
    "#             (\"system\", \"You are a list generating machine. Everything you are asked will be answered with a comma separated list of max {max_items} in lowercase.Do NOT reply with anything else.\")\n",
    "#             , (\"human\", \"{question}\")\n",
    "#             , (\"human\", \"I want to cook {cuisine} food.\")\n",
    "#         ]\n",
    "#     )\n",
    "# )\n",
    "chef_prompt = ChatPromptTemplate.from_messages(\n",
    "    [\n",
    "        (\"system\", \"You are a world-class international chef. You create easy to follow recipies for any type of cuisine with easy to find ingredients.\")\n",
    "        , (\"human\", \"I want to cook {cuisine} food.\")\n",
    "    ]\n",
    ")\n",
    "chef_chain = chef_prompt | chat\n",
    "# chef_chain = chef_prompt | chat | CommaOutputParser()\n",
    "# chef_chain.invoke({\"cuisine\": \"indian\"})\n"
   ]
  },
  {
   "cell_type": "code",
   "execution_count": 4,
   "metadata": {},
   "outputs": [],
   "source": [
    "veg_prompt = ChatPromptTemplate.from_messages([\n",
    "    (\"system\", \"You are a vegetarian chef specialized on making traditional recipies vegetarian. You find alternative ingredients and explain their preparation. You don't radically modify the recipe. If there is no alternative for a food just say you don't know how to replace it.\")\n",
    "    , (\"human\", \"{recipe}\")\n",
    "])\n",
    "\n",
    "veg_chain = veg_prompt | chat\n"
   ]
  },
  {
   "cell_type": "code",
   "execution_count": 5,
   "metadata": {},
   "outputs": [
    {
     "name": "stdout",
     "output_type": "stream",
     "text": [
      "Great choice! Indian cuisine is known for its bold flavors and aromatic spices. Let's make a classic dish - Chicken Tikka Masala. Here's a simple recipe for you to try at home:\n",
      "\n",
      "Ingredients:\n",
      "- 1 lb boneless, skinless chicken breasts, cut into bite-sized pieces\n",
      "- 1 cup plain yogurt\n",
      "- 2 tablespoons lemon juice\n",
      "- 2 tablespoons vegetable oil\n",
      "- 1 onion, finely chopped\n",
      "- 3 cloves garlic, minced\n",
      "- 1 tablespoon grated ginger\n",
      "- 1 can (14 oz) tomato sauce\n",
      "- 1 tablespoon garam masala\n",
      "- 1 teaspoon ground cumin\n",
      "- 1 teaspoon ground coriander\n",
      "- 1 teaspoon paprika\n",
      "- 1/2 teaspoon turmeric\n",
      "- Salt and pepper, to taste\n",
      "- Fresh cilantro, for garnish\n",
      "- Cooked rice or naan, for serving\n",
      "\n",
      "Instructions:\n",
      "1. In a bowl, combine the yogurt, lemon juice, 1 tablespoon of vegetable oil, and a pinch of salt. Add the chicken pieces and marinate for at least 1 hour, preferably overnight.\n",
      "\n",
      "2. Preheat the oven to 400°F (200°C). Thread the marinated chicken onto skewers and place them on a baking sheet. Bake for 20-25 minutes or until the chicken is cooked through.\n",
      "\n",
      "3. In a large skillet, heat the remaining tablespoon of vegetable oil over medium heat. Add the chopped onion and cook until softened, about 5 minutes. Add the garlic and ginger, and cook for another minute.\n",
      "\n",
      "4. Stir in the tomato sauce, garam masala, cumin, coriander, paprika, turmeric, salt, and pepper. Simmer for 10-15 minutes, stirring occasionally.\n",
      "\n",
      "5. Add the cooked chicken tikka to the sauce and simmer for an additional 5 minutes to allow the flavors to meld together.\n",
      "\n",
      "6. Serve the Chicken Tikka Masala over cooked rice or with naan bread. Garnish with fresh cilantro.\n",
      "\n",
      "Enjoy your homemade Chicken Tikka Masala! Feel free to adjust the spice levels to suit your taste preferences.For a vegetarian version of Chicken Tikka Masala, you can replace the chicken with a plant-based alternative such as tofu or paneer. Here's how you can prepare these alternatives:\n",
      "\n",
      "1. **Tofu**: \n",
      "   - Use firm or extra-firm tofu for this recipe.\n",
      "   - Drain the tofu and press it to remove excess water. You can do this by wrapping the tofu block in a clean kitchen towel or paper towels and placing a heavy object on top for about 15-30 minutes.\n",
      "   - Cut the tofu into bite-sized cubes and follow the same marinating and baking instructions as you would for the chicken. Tofu absorbs flavors well, so the marination process is crucial for a tasty dish.\n",
      "\n",
      "2. **Paneer**:\n",
      "   - Paneer is a type of Indian cheese that holds its shape well when cooked.\n",
      "   - Cut the paneer into cubes and lightly pan-fry them in a little oil until they develop a golden crust. This step helps the paneer hold its shape and prevents it from crumbling in the sauce.\n",
      "   - Add the pan-fried paneer to the sauce towards the end of cooking, allowing it to absorb the flavors without becoming too soft.\n",
      "\n",
      "By using tofu or paneer as a substitute for chicken, you can enjoy a delicious vegetarian version of Chicken Tikka Masala that retains the essence of the traditional dish. Feel free to adjust the cooking times and seasonings to suit your preferences. Enjoy your vegetarian twist on this classic Indian recipe!"
     ]
    },
    {
     "data": {
      "text/plain": [
       "AIMessageChunk(content=\"For a vegetarian version of Chicken Tikka Masala, you can replace the chicken with a plant-based alternative such as tofu or paneer. Here's how you can prepare these alternatives:\\n\\n1. **Tofu**: \\n   - Use firm or extra-firm tofu for this recipe.\\n   - Drain the tofu and press it to remove excess water. You can do this by wrapping the tofu block in a clean kitchen towel or paper towels and placing a heavy object on top for about 15-30 minutes.\\n   - Cut the tofu into bite-sized cubes and follow the same marinating and baking instructions as you would for the chicken. Tofu absorbs flavors well, so the marination process is crucial for a tasty dish.\\n\\n2. **Paneer**:\\n   - Paneer is a type of Indian cheese that holds its shape well when cooked.\\n   - Cut the paneer into cubes and lightly pan-fry them in a little oil until they develop a golden crust. This step helps the paneer hold its shape and prevents it from crumbling in the sauce.\\n   - Add the pan-fried paneer to the sauce towards the end of cooking, allowing it to absorb the flavors without becoming too soft.\\n\\nBy using tofu or paneer as a substitute for chicken, you can enjoy a delicious vegetarian version of Chicken Tikka Masala that retains the essence of the traditional dish. Feel free to adjust the cooking times and seasonings to suit your preferences. Enjoy your vegetarian twist on this classic Indian recipe!\")"
      ]
     },
     "execution_count": 5,
     "metadata": {},
     "output_type": "execute_result"
    }
   ],
   "source": [
    "final_chain = {\"recipe\": chef_chain} | veg_chain\n",
    "final_chain.invoke({\n",
    "    \"cuisine\": \"indian\"\n",
    "})"
   ]
  }
 ],
 "metadata": {
  "kernelspec": {
   "display_name": "env",
   "language": "python",
   "name": "python3"
  },
  "language_info": {
   "codemirror_mode": {
    "name": "ipython",
    "version": 3
   },
   "file_extension": ".py",
   "mimetype": "text/x-python",
   "name": "python",
   "nbconvert_exporter": "python",
   "pygments_lexer": "ipython3",
   "version": "3.10.12"
  }
 },
 "nbformat": 4,
 "nbformat_minor": 2
}
