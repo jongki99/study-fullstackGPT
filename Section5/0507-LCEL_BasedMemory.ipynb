{
 "cells": [
  {
   "cell_type": "code",
   "execution_count": null,
   "metadata": {},
   "outputs": [],
   "source": [
    "from langchain.memory import ConversationSummaryBufferMemory\n",
    "from langchain.chat_models import ChatOpenAI\n",
    "from langchain.chains import LLMChain\n",
    "from langchain.schema.runnable import RunnablePassthrough # 이 강의의 학습 목표.\n",
    "from langchain.prompts import ChatPromptTemplate, MessagesPlaceholder\n",
    "\n",
    "\"\"\"\n",
    "강의 요약\n",
    "\n",
    "chain.invoke 형태로 프로그램을 변경하기 위한 작업. LCEL 형태겠지?\n",
    "\n",
    "0506 에서 이 소스로 변경을 하는 강의인데... 너무 어렵당.\n",
    "1. chain 을 만들고, RunnablePassthrough 를 통해서 chat_history 를 매번 전달하도록 세팅한다.\n",
    "2. load_memory 함수를 통해서 chat_history 를 가져와서 RunnablePassthrough 에 전달. 해당 정보를 바로 prompt 에 전달하게 된다.\n",
    "3. invoke_chain 함수를 통해서, 호출 메시지를 간결하게 처리한다.\n",
    "    chain.invoke 를 통해서. 질문을 던지고, 응답을 받는다. 질문던질때 chaining 을 통해서 위의 설정값을 세팅해서 전달.\n",
    "    질문과 응답을 메모리에 설정해주는 작업을 해준다.(다음 질문을 위해서...)\n",
    "전체 절차는 어려운건 아닌데...\n",
    "\"\"\"\n",
    "\n",
    "llm = ChatOpenAI(\n",
    "    temperature=0.1,\n",
    ")\n",
    "\n",
    "memory = ConversationSummaryBufferMemory(\n",
    "    llm=llm,\n",
    "    max_token_limit=120,\n",
    "    memory_key=\"chat_history\", # 이 값이 아래 정보로 활용되도록 하는 방법이겠지? default:history\n",
    "    return_messages=True,\n",
    ")\n",
    "\n",
    "# template = \"\"\"\n",
    "\n",
    "prompt = ChatPromptTemplate.from_messages(\n",
    "    [\n",
    "        (\"system\", \"You are a helpful AI talking to a human\"),\n",
    "        MessagesPlaceholder(variable_name=\"chat_history\"),\n",
    "        (\"human\", \"{question}\"),\n",
    "    ]\n",
    ")\n",
    "\n",
    "def load_memory(_):\n",
    "    return memory.load_memory_variables({})[\"chat_history\"]\n",
    "\n",
    "# chain = prompt | llm\n",
    "chain = RunnablePassthrough.assign(chat_history=load_memory) | prompt | llm\n",
    "\n",
    "def invoke_chain(question):\n",
    "    result = chain.invoke({\"question\": question})\n",
    "    memory.save_context(\n",
    "        {\"input\": question},\n",
    "        {\"output\": result.content},\n",
    "    )\n",
    "    print(result)"
   ]
  },
  {
   "cell_type": "code",
   "execution_count": null,
   "metadata": {},
   "outputs": [],
   "source": [
    "invoke_chain(\"My name is nico.\")"
   ]
  },
  {
   "cell_type": "code",
   "execution_count": null,
   "metadata": {},
   "outputs": [],
   "source": [
    "invoke_chain(question=\"What is my name?\")"
   ]
  },
  {
   "cell_type": "code",
   "execution_count": null,
   "metadata": {},
   "outputs": [],
   "source": [
    "invoke_chain(question=\"Today's weather in Seoul is sunny.\")"
   ]
  },
  {
   "cell_type": "code",
   "execution_count": null,
   "metadata": {},
   "outputs": [],
   "source": [
    "# 왜 답을 재대로 하지 못할까???\n",
    "\n",
    "invoke_chain(question=\"How's the weather where I live today?\")"
   ]
  }
 ],
 "metadata": {
  "kernelspec": {
   "display_name": "env",
   "language": "python",
   "name": "python3"
  },
  "language_info": {
   "codemirror_mode": {
    "name": "ipython",
    "version": 3
   },
   "file_extension": ".py",
   "mimetype": "text/x-python",
   "name": "python",
   "nbconvert_exporter": "python",
   "pygments_lexer": "ipython3",
   "version": "3.10.12"
  }
 },
 "nbformat": 4,
 "nbformat_minor": 2
}
