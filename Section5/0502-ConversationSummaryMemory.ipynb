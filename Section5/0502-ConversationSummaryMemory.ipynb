{
 "cells": [
  {
   "cell_type": "code",
   "execution_count": 6,
   "metadata": {},
   "outputs": [
    {
     "data": {
      "text/plain": [
       "{'history': [SystemMessage(content='The human greets the AI with a \"Hi!\" and the AI responds by asking how the human is. The human responds that they are nice, and the AI enthusiastically replies that it is good.')]}"
      ]
     },
     "execution_count": 6,
     "metadata": {},
     "output_type": "execute_result"
    }
   ],
   "source": [
    "from langchain.memory import ConversationSummaryMemory\n",
    "from langchain.chat_models import ChatOpenAI\n",
    "\n",
    "llm = ChatOpenAI(\n",
    "    temperature=0.1,\n",
    ")\n",
    "\n",
    "# 특징 : k 개수만큼의 대화만 기억하고, 이전의 기억은 삭제한다.\n",
    "# 단점은 대화를 길게 할때 전체를 모르면 맞지 않는 대화가 될수 있다.\n",
    "# 장점은 짧은 문답에도 문제는 없으며, 과부하는 없다.\n",
    "memory = ConversationSummaryMemory(\n",
    "    return_messages=True,\n",
    "    k=4,\n",
    "    llm=llm,\n",
    ") # True : 챗모델을 사용할 경우 사용, False 는 문자열로 리턴.\n",
    "# memory = ConversationBufferWindowMemory(return_messages=False)\n",
    "# 동작 방식은 뒤에서 확인해보자....\n",
    "\n",
    "def add_message(input, output):\n",
    "    memory.save_context({\"input\": input}, {\"output\": output})\n",
    "\n",
    "def get_history():\n",
    "    return memory.load_memory_variables({})\n",
    "\n",
    "\n",
    "add_message(\"Hi!\", \"How are you?\")\n",
    "\n",
    "add_message(\"nice, and you?\", \"good!!!\")\n",
    "\n",
    "get_history()\n"
   ]
  },
  {
   "cell_type": "code",
   "execution_count": 7,
   "metadata": {},
   "outputs": [
    {
     "data": {
      "text/plain": [
       "{'history': [SystemMessage(content='The human greets the AI with a \"Hi!\" and the AI responds by asking how the human is. The human responds that they are nice, and the AI enthusiastically replies that it is good. The human introduces themselves as Nicolas from South Korea, and the AI expresses admiration for that.')]}"
      ]
     },
     "execution_count": 7,
     "metadata": {},
     "output_type": "execute_result"
    }
   ],
   "source": [
    "add_message(\"Hi I'm Nicolas, I live in South Korea\", \"Wow that is so cool!\")\n",
    "\n",
    "memory.load_memory_variables({})\n"
   ]
  },
  {
   "cell_type": "code",
   "execution_count": 8,
   "metadata": {},
   "outputs": [
    {
     "data": {
      "text/plain": [
       "{'history': [SystemMessage(content='The human greets the AI with a \"Hi!\" and the AI responds by asking how the human is. The human responds that they are nice, and the AI enthusiastically replies that it is good. The human introduces themselves as Nicolas from South Korea, and the AI expresses admiration for that, wishing it could go to South Korea because it is so pretty.')]}"
      ]
     },
     "execution_count": 8,
     "metadata": {},
     "output_type": "execute_result"
    }
   ],
   "source": [
    "add_message(\"South Korea is so pretty\", \"I wish I could go!!!\")\n",
    "memory.load_memory_variables({})\n"
   ]
  },
  {
   "cell_type": "code",
   "execution_count": 9,
   "metadata": {},
   "outputs": [
    {
     "data": {
      "text/plain": [
       "{'history': [SystemMessage(content='The human greets the AI with a \"Hi!\" and the AI responds by asking how the human is. The human responds that they are nice, and the AI enthusiastically replies that it is good. The human introduces themselves as Nicolas from South Korea, and the AI expresses admiration for that, wishing it could go to South Korea because it is so pretty. When the human asks how far Korea is from Argentina, the AI admits it doesn\\'t know, saying it\\'s super far.')]}"
      ]
     },
     "execution_count": 9,
     "metadata": {},
     "output_type": "execute_result"
    }
   ],
   "source": [
    "add_message(\"How far is Korea from Argentina?\", \"I don't know! Super far!\")\n",
    "memory.load_memory_variables({})"
   ]
  }
 ],
 "metadata": {
  "kernelspec": {
   "display_name": "env",
   "language": "python",
   "name": "python3"
  },
  "language_info": {
   "codemirror_mode": {
    "name": "ipython",
    "version": 3
   },
   "file_extension": ".py",
   "mimetype": "text/x-python",
   "name": "python",
   "nbconvert_exporter": "python",
   "pygments_lexer": "ipython3",
   "version": "3.10.12"
  }
 },
 "nbformat": 4,
 "nbformat_minor": 2
}
