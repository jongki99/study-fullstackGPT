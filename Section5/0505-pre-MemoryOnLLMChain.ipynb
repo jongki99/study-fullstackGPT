{
 "cells": [
  {
   "cell_type": "code",
   "execution_count": null,
   "metadata": {},
   "outputs": [],
   "source": [
    "# 강의 요약\n",
    "\n",
    "# off the shelf chain. 범용.\n",
    "# llm ChatOpenAI 와 대화할때 이력이 저장되지 않는 memory 문제를 제시하고, 이를 엮어서 질의응답을 할수 있는 샘플.\n",
    "\n",
    "# template 으로 chat_history 를 llm 으로 데이터를 주고, 연결시키지 않으므로, 마지막 답변을 재대로 하지 못한다.\n",
    "# 0505 원본을 보듯. memory model 에서 memory_key 를 chat_history 로 설정하고,\n",
    "# template 안쪽에 chat_history 를 넘겨주므로써 대화에 기존 대화정보를 넘겨서, 전체적인 대화가 가능하도록 한다.\n",
    "\n",
    "# 0505 원본에 내가 서울에 살고 있다고 했고, 오늘 서울 날씨가 sunny 하다고 했는데...\n",
    "# 답을 못한다. 이거 해결해보는 것도 좋은 학습이 될거 같다. 시간이...\n",
    "\n",
    "from langchain.memory import ConversationSummaryBufferMemory\n",
    "from langchain.chat_models import ChatOpenAI\n",
    "from langchain.chains import LLMChain\n",
    "from langchain.prompts import PromptTemplate\n",
    "\n",
    "llm = ChatOpenAI(temperature=0.1)\n",
    "\n",
    "memory = ConversationSummaryBufferMemory(\n",
    "    llm=llm,\n",
    "    max_token_limit=120,\n",
    "#    memory_key=\"chat_history\",\n",
    ")\n",
    "\n",
    "template = \"\"\"\n",
    "    You are a helpful AI talking to a human.\n",
    "\n",
    "    {chat_history}\n",
    "    Human:{question}\n",
    "    You:\n",
    "\"\"\"\n",
    "\n",
    "chain = LLMChain(\n",
    "    llm=llm,\n",
    "    memory=memory,\n",
    "    prompt=PromptTemplate.from_template(\"{question}\"),\n",
    "    verbose=True,\n",
    ")\n",
    "\n",
    "chain.predict(question=\"My name is Nico\")\n"
   ]
  },
  {
   "cell_type": "code",
   "execution_count": null,
   "metadata": {},
   "outputs": [],
   "source": [
    "chain.predict(question=\"I live in Seoul\")"
   ]
  },
  {
   "cell_type": "code",
   "execution_count": null,
   "metadata": {},
   "outputs": [],
   "source": [
    "chain.predict(question=\"What is my name?\")"
   ]
  }
 ],
 "metadata": {
  "kernelspec": {
   "display_name": "env",
   "language": "python",
   "name": "python3"
  },
  "language_info": {
   "codemirror_mode": {
    "name": "ipython",
    "version": 3
   },
   "file_extension": ".py",
   "mimetype": "text/x-python",
   "name": "python",
   "nbconvert_exporter": "python",
   "pygments_lexer": "ipython3",
   "version": "3.10.12"
  }
 },
 "nbformat": 4,
 "nbformat_minor": 2
}
