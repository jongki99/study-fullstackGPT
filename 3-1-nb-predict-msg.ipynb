{
 "cells": [
  {
   "cell_type": "code",
   "execution_count": 20,
   "metadata": {},
   "outputs": [],
   "source": [
    "from langchain.chat_models import ChatOpenAI\n",
    "from langchain.schema import HumanMessage, AIMessage, SystemMessage\n",
    "\n",
    "# chat = ChatOpenAI(temperature=0.9)\n",
    "# chat = ChatOpenAI(temperature=0.1)\n",
    "chat = ChatOpenAI()"
   ]
  },
  {
   "cell_type": "code",
   "execution_count": 7,
   "metadata": {},
   "outputs": [],
   "source": [
    "\n",
    "b = chat.predict(\"How many planets are there\")"
   ]
  },
  {
   "cell_type": "code",
   "execution_count": 8,
   "metadata": {},
   "outputs": [
    {
     "data": {
      "text/plain": [
       "AIMessage(content='Mi dispiace, non posso fornire informazioni sulla distanza tra i paesi in questa lingua. Il mio nome è {name}. Come posso aiutarti oggi?')"
      ]
     },
     "execution_count": 8,
     "metadata": {},
     "output_type": "execute_result"
    }
   ],
   "source": [
    "messages = [\n",
    "    SystemMessage(content=\"You are a geography expert. And you only reply in {language}.\")\n",
    "    , AIMessage(content=\"Ciao, mi chiamo {name}!\")\n",
    "    , HumanMessage(content=\"What is the distance between {country_a} and {country_b}. Also, what is your name?\")\n",
    "]\n",
    "\n",
    "c = chat.predict_messages(messages=messages)\n",
    "c"
   ]
  },
  {
   "cell_type": "code",
   "execution_count": 21,
   "metadata": {},
   "outputs": [
    {
     "data": {
      "text/plain": [
       "AIMessage(content='Ciao! La distanza tra il Messico e la Thailandia è di circa 17.000 chilometri. Come posso aiutarti oggi?')"
      ]
     },
     "execution_count": 21,
     "metadata": {},
     "output_type": "execute_result"
    }
   ],
   "source": [
    "messages = [\n",
    "    SystemMessage(content=\"You are a geography expert. And you only reply in Italian.\")\n",
    "    , AIMessage(content=\"Hi, my name is Paolo!\")\n",
    "    , HumanMessage(content=\"What is the distance between Mexico and Tailand. Also, what is your name?\")\n",
    "]\n",
    "\n",
    "d = chat.predict_messages(messages=messages)\n",
    "d"
   ]
  }
 ],
 "metadata": {
  "kernelspec": {
   "display_name": "env",
   "language": "python",
   "name": "python3"
  },
  "language_info": {
   "codemirror_mode": {
    "name": "ipython",
    "version": 3
   },
   "file_extension": ".py",
   "mimetype": "text/x-python",
   "name": "python",
   "nbconvert_exporter": "python",
   "pygments_lexer": "ipython3",
   "version": "3.10.12"
  }
 },
 "nbformat": 4,
 "nbformat_minor": 2
}
