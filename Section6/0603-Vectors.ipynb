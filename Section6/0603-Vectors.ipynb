{
 "cells": [
  {
   "cell_type": "code",
   "execution_count": null,
   "metadata": {},
   "outputs": [],
   "source": [
    "\"\"\"\n",
    "Embed : human to machine.\n",
    "\n",
    "* 단어의 속성을 숫자로 표시함으로써 비슷한 단어에 연산을 할수 있음. 이를 이용하여 차이(-)를 나타내는 유사단어를 찾을 수 있다.\n",
    "* 영화를 예시로 들어보면... 백터공간에서 비슷한 위치에 있는 영화를 찾아서 추천해줌. 영화추천서비스에서 활용.\n",
    "\n",
    "similar words.\n",
    "https://turbomaze.github.io/word2vecjson/\n",
    "\n",
    "spotify 추천서비스.\n",
    "https://www.youtube.com/watch?v=2eWuYf-aZE4\n",
    "\n",
    "check : Gustav Soderstrom.\n",
    "Explained: The conspiracy to make AI seem harder than it is! By Gustav Söderström\n",
    "Spotify R&D\n",
    "\n",
    "\"\"\""
   ]
  }
 ],
 "metadata": {
  "language_info": {
   "name": "python"
  }
 },
 "nbformat": 4,
 "nbformat_minor": 2
}
