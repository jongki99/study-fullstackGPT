{
 "cells": [
  {
   "cell_type": "code",
   "execution_count": null,
   "metadata": {},
   "outputs": [],
   "source": [
    "\"\"\"\n",
    "Embed : human to machine.\n",
    "\n",
    "https://turbomaze.github.io/word2vecjson/\n",
    "\n",
    "https://www.youtube.com/watch?v=2eWuYf-aZE4\n",
    "check : Gustav Soderstrom.\n",
    "Explained: The conspiracy to make AI seem harder than it is! By Gustav Söderström\n",
    "Spotify R&D\n",
    "\n",
    "\"\"\""
   ]
  }
 ],
 "metadata": {
  "language_info": {
   "name": "python"
  }
 },
 "nbformat": 4,
 "nbformat_minor": 2
}
