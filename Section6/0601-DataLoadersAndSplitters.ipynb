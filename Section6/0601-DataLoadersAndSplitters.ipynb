{
 "cells": [
  {
   "cell_type": "code",
   "execution_count": null,
   "metadata": {},
   "outputs": [],
   "source": [
    "\"\"\"\n",
    "Retrieval\n",
    "https://python.langchain.com/docs/modules/data_connection/\n",
    "\n",
    "https://python.langchain.com/assets/images/data_connection-95ff2033a8faa5f3ba41376c0f6dd32a.jpg\n",
    "\n",
    "Data connection.\n",
    "Source -> Load -> Transform -> Embed -> Store -> Retrieve\n",
    "\n",
    "\"\"\"\n",
    "\n",
    "from langchain.chat_models import ChatOpenAI\n",
    "from langchain.document_loaders import UnstructuredFileLoader\n",
    "from langchain.text_splitter import RecursiveCharacterTextSplitter\n",
    "\n",
    "splitter = RecursiveCharacterTextSplitter()\n",
    "\n",
    "loader = UnstructuredFileLoader(\"./files/chapter_one.docx\")\n",
    "\n",
    "loader.load_and_split(text_splitter=splitter)\n",
    "\n"
   ]
  },
  {
   "cell_type": "code",
   "execution_count": null,
   "metadata": {},
   "outputs": [],
   "source": [
    "from langchain.chat_models import ChatOpenAI\n",
    "from langchain.document_loaders import TextLoader\n",
    "\n",
    "loader = TextLoader(\"./files/chapter_one.txt\")\n",
    "\n",
    "loader.load()"
   ]
  },
  {
   "cell_type": "code",
   "execution_count": null,
   "metadata": {},
   "outputs": [],
   "source": [
    "from langchain.chat_models import ChatOpenAI\n",
    "from langchain.document_loaders import PyPDFLoader\n",
    "\n",
    "loader = PyPDFLoader(\"./files/chapter_one.pdf\")\n",
    "\n",
    "loader.load()"
   ]
  },
  {
   "cell_type": "code",
   "execution_count": null,
   "metadata": {},
   "outputs": [],
   "source": [
    "\"\"\"\n",
    "아래 페이지에서 확인.\n",
    "https://python.langchain.com/docs/integrations/document_loaders/microsoft_word\n",
    "위에 해결책 포함됨. docx 로 찾으면 잘 안나옴. -_-;;\n",
    "%pip install --upgrade --quiet  docx2txt\n",
    "\n",
    "[notice] A new release of pip is available: 23.0.1 -> 24.0\n",
    "[notice] To update, run: pip install --upgrade pip\n",
    "\n",
    "❯ pip install --upgrade --quiet  docx2txt\n",
    "❯ pip install --upgrade pip\n",
    "❯ pip install --upgrade --quiet  docx2txt\n",
    "\n",
    "\"\"\"\n",
    "\n",
    "from langchain.chat_models import ChatOpenAI\n",
    "from langchain.document_loaders import Docx2txtLoader\n",
    "\n",
    "loader = Docx2txtLoader(\"./files/chapter_one.docx\")\n",
    "\n",
    "loader.load()\n"
   ]
  },
  {
   "cell_type": "code",
   "execution_count": null,
   "metadata": {},
   "outputs": [],
   "source": [
    "from langchain.chat_models import ChatOpenAI\n",
    "from langchain.document_loaders import UnstructuredFileLoader\n",
    "\n",
    "# loader = UnstructuredFileLoader(\"./files/chapter_one.txt\")\n",
    "# loader.load()\n",
    "# 0.0s\n",
    "\n",
    "# loader = UnstructuredFileLoader(\"./files/chapter_one.pdf\")\n",
    "# loader.load()\n",
    "# 2.3s\n",
    "# PyPDFLoader 1.0s\n",
    "\n",
    "# loader = UnstructuredFileLoader(\"./files/chapter_one.docx\")\n",
    "# loader.load()\n",
    "# 0.0s\n"
   ]
  },
  {
   "cell_type": "code",
   "execution_count": null,
   "metadata": {},
   "outputs": [],
   "source": [
    "from langchain.chat_models import ChatOpenAI\n",
    "from langchain.document_loaders import UnstructuredFileLoader\n",
    "from langchain.text_splitter import RecursiveCharacterTextSplitter\n",
    "\n",
    "splitter = RecursiveCharacterTextSplitter(\n",
    "    chunk_size=200,\n",
    "    chunk_overlap=100,\n",
    "    separators=\"\"\"\n",
    "\"\"\",\n",
    ")\n",
    "\n",
    "# loader = UnstructuredFileLoader(\"./files/chapter_one.txt\")\n",
    "loader = UnstructuredFileLoader(\"./files/chapter_onetwo-small.txt\")\n",
    "\n",
    "# 이렇게 도 되고...\n",
    "# docs = loader.load()\n",
    "# splitter.split_documents(docs)\n",
    "\n",
    "# 이렇게도 되는데... 한줄이니까?...\n",
    "docs = loader.load_and_split(text_splitter=splitter)\n",
    "\n",
    "len(docs)\n",
    "docs\n"
   ]
  }
 ],
 "metadata": {
  "kernelspec": {
   "display_name": "env",
   "language": "python",
   "name": "python3"
  },
  "language_info": {
   "codemirror_mode": {
    "name": "ipython",
    "version": 3
   },
   "file_extension": ".py",
   "mimetype": "text/x-python",
   "name": "python",
   "nbconvert_exporter": "python",
   "pygments_lexer": "ipython3",
   "version": "3.10.12"
  }
 },
 "nbformat": 4,
 "nbformat_minor": 2
}
