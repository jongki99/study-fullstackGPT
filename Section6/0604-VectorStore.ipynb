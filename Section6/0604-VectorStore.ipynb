{
 "cells": [
  {
   "cell_type": "code",
   "execution_count": null,
   "metadata": {},
   "outputs": [],
   "source": [
    "\"\"\"\n",
    "embeddings : OpenAI api 를 사용.\n",
    "vector length = 1536 을 사용한다.\n",
    "단어나 문장이나 똑같다는 것은 무엇을 의미하지???\n",
    "\n",
    "질문의 백터를 가지고, 관계를 찾아서 무얼한다는 의미인걸까? 이건 잘 모르겠네...\n",
    "\n",
    "Vector stores.\n",
    "* chroma\n",
    "* FAISS\n",
    "* pinecone 과 같은 cloud vector store 를 이용하게 될듯...\n",
    "\n",
    "\"\"\""
   ]
  },
  {
   "cell_type": "code",
   "execution_count": null,
   "metadata": {},
   "outputs": [],
   "source": [
    "from langchain.embeddings import OpenAIEmbeddings\n",
    "\n",
    "embedder = OpenAIEmbeddings()\n",
    "\n",
    "# embedder.embed_documents\n",
    "vectors = embedder.embed_query(\"Hi, how are you\")\n",
    "print(len(vectors), vectors)\n"
   ]
  },
  {
   "cell_type": "code",
   "execution_count": null,
   "metadata": {},
   "outputs": [],
   "source": [
    "vectors"
   ]
  },
  {
   "cell_type": "code",
   "execution_count": null,
   "metadata": {},
   "outputs": [],
   "source": [
    "vectors = embedder.embed_documents([\n",
    "    \"Hi\",\n",
    "    \"how\",\n",
    "    \"are\",\n",
    "    \"you longer sentences because\",\n",
    "])\n",
    "\n",
    "print(len(vectors), len(vectors[0]), len(vectors[1]), len(vectors[2]), len(vectors[3]))"
   ]
  },
  {
   "cell_type": "code",
   "execution_count": null,
   "metadata": {},
   "outputs": [],
   "source": [
    "vectors = embedder.embed_query(\"jongki\")\n",
    "\n",
    "vectors"
   ]
  },
  {
   "cell_type": "code",
   "execution_count": null,
   "metadata": {},
   "outputs": [],
   "source": []
  }
 ],
 "metadata": {
  "kernelspec": {
   "display_name": "env",
   "language": "python",
   "name": "python3"
  },
  "language_info": {
   "codemirror_mode": {
    "name": "ipython",
    "version": 3
   },
   "file_extension": ".py",
   "mimetype": "text/x-python",
   "name": "python",
   "nbconvert_exporter": "python",
   "pygments_lexer": "ipython3",
   "version": "3.10.12"
  }
 },
 "nbformat": 4,
 "nbformat_minor": 2
}
