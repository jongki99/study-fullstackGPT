{
 "cells": [
  {
   "cell_type": "code",
   "execution_count": null,
   "metadata": {},
   "outputs": [],
   "source": [
    "\"\"\"\n",
    "RAG : RetrievalQA off-the-shelf\n",
    "\n",
    "loader : text load.\n",
    "split : long text split.\n",
    "embedding : text to vectors.value, cache.\n",
    "vector_store : Chroma, FAISS 등의 lib 로 embedding 데이터를 제공하는 역활?\n",
    "RetrievelQA chain 으로 검색.\n",
    "\"\"\""
   ]
  }
 ],
 "metadata": {
  "kernelspec": {
   "display_name": "env",
   "language": "python",
   "name": "python3"
  },
  "language_info": {
   "codemirror_mode": {
    "name": "ipython",
    "version": 3
   },
   "file_extension": ".py",
   "mimetype": "text/x-python",
   "name": "python",
   "nbconvert_exporter": "python",
   "pygments_lexer": "ipython3",
   "version": "3.10.12"
  }
 },
 "nbformat": 4,
 "nbformat_minor": 2
}
