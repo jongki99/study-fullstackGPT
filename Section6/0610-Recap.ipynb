{
 "cells": [
  {
   "cell_type": "code",
   "execution_count": 1,
   "metadata": {},
   "outputs": [
    {
     "data": {
      "text/plain": [
       "'\\n<pre>\\nMapReduce LCEL Chain.\\n\\ntodos\\n* list of docs\\n    # 문서를 얻어서..\\n* for doc in list of docs | prompt | llm\\n    # 각각의 문서를 llm 으로 필요한 정보를 얻는다.\\n* for responsein list of llms response | put them all together\\n    # 각각의 문서 요약본을 하나의 문서로 정리.\\n* final doc | promt | llm\\n    # 요약 문서를 llm 으로 필요한 정보를 정리한다.\\n* chain.invoke\\n\\nnew\\nRunnableRambda\\n\\nmap_reduce2 -> map_reduce 로 바꾸는 연습.\\n\\nexecute and after langchain.smith view.\\n</pre>\\n'"
      ]
     },
     "execution_count": 1,
     "metadata": {},
     "output_type": "execute_result"
    }
   ],
   "source": [
    "\"\"\"\n",
    "MapReduce LCEL Chain. recap\n",
    "\n",
    "mapReduce 를 위한 for doc in documents\n",
    "\n",
    "final_chain -> map_china -> map_doc_chain 으로 이어지는 탑 다운 방식의 코드. 역순이지만... \n",
    "\n",
    "chain 방식은 아래와 같은 형식을 따른다. 앞에 데이터를 반환하면, 뒤에 동작이 받아서 처리하고, 또 데이터를 반환하는 방식...\n",
    "chain = data | behavior = data | llm\n",
    "chain.invoke(input)\n",
    "\n",
    "execute and after langchain.smith view.\n",
    "\"\"\""
   ]
  }
 ],
 "metadata": {
  "kernelspec": {
   "display_name": "env",
   "language": "python",
   "name": "python3"
  },
  "language_info": {
   "codemirror_mode": {
    "name": "ipython",
    "version": 3
   },
   "file_extension": ".py",
   "mimetype": "text/x-python",
   "name": "python",
   "nbconvert_exporter": "python",
   "pygments_lexer": "ipython3",
   "version": "3.10.12"
  }
 },
 "nbformat": 4,
 "nbformat_minor": 2
}
